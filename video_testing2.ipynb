{
 "cells": [
  {
   "cell_type": "code",
   "execution_count": null,
   "metadata": {},
   "outputs": [],
   "source": [
    "import cv2\n",
    "import numpy as np\n",
    "import matplotlib.pyplot as plt\n",
    "from keras.models import load_model\n"
   ]
  },
  {
   "cell_type": "code",
   "execution_count": null,
   "metadata": {},
   "outputs": [],
   "source": [
    "# Load your pre-trained model\n",
    "model = load_model('/Video_Anomaly_dectection_kaggle/Anomaly_detection/Trained_model/my_model_epoch_1.h5')\n",
    "\n",
    "# Initialize video capture\n",
    "video_path = '/Khoa_hoc_dl_xu_ly_anh/Anomaly-Videos/Abuse/Abuse002_x264.mp4'  # Replace with your video file path\n",
    "cap = cv2.VideoCapture(video_path)\n",
    "\n",
    "# Define the codec and create VideoWriter object\n",
    "# fourcc = cv2.VideoWriter_fourcc(*'mp4v')\n",
    "# out = cv2.VideoWriter('anomalous_frames.mp4', fourcc, 20.0, (640,480))\n",
    "\n",
    "frames = []\n",
    "anomaly_scores = []"
   ]
  },
  {
   "cell_type": "code",
   "execution_count": null,
   "metadata": {},
   "outputs": [],
   "source": [
    "while cap.isOpened():\n",
    "    ret, frame = cap.read()\n",
    "    if not ret:\n",
    "        break\n",
    "\n",
    "    # Resize frame to 64x64\n",
    "    resized_frame = cv2.resize(frame, (64, 64))\n",
    "    \n",
    "    # Normalize frame\n",
    "    normalized_frame = resized_frame / 255.0\n",
    "    \n",
    "    # Expand dimensions to match model input\n",
    "    frame_to_predict = np.expand_dims(normalized_frame, axis=0)\n",
    "    \n",
    "    # Predict anomaly score\n",
    "    anomaly_score = model.predict(frame_to_predict)[0][0]\n",
    "    \n",
    "    # Save the frame and its anomaly score\n",
    "    frames.append(frame)\n",
    "    anomaly_scores.append(anomaly_score)\n",
    "    \n",
    "    # Write frame to output video if anomaly score is high\n",
    "    # if anomaly_score > 0.0:  # Threshold set to 0.0 to consider all frames\n",
    "    #     out.write(frame)\n",
    "\n",
    "# Release everything when job is finished\n",
    "cap.release()\n",
    "# out.release()"
   ]
  },
  {
   "cell_type": "code",
   "execution_count": null,
   "metadata": {},
   "outputs": [],
   "source": [
    "# Plot the anomaly scores\n",
    "plt.figure(figsize=(8,5))\n",
    "plt.plot(anomaly_scores)\n",
    "plt.title('Anomaly Scores per Frame')\n",
    "plt.xlabel('Frame')\n",
    "plt.ylabel('Anomaly Score')\n",
    "plt.show()\n"
   ]
  }
 ],
 "metadata": {
  "kernelspec": {
   "display_name": "Python 3",
   "language": "python",
   "name": "python3"
  },
  "language_info": {
   "codemirror_mode": {
    "name": "ipython",
    "version": 3
   },
   "file_extension": ".py",
   "mimetype": "text/x-python",
   "name": "python",
   "nbconvert_exporter": "python",
   "pygments_lexer": "ipython3",
   "version": "3.10.0"
  }
 },
 "nbformat": 4,
 "nbformat_minor": 2
}
