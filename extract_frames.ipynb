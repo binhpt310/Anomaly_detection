{
 "cells": [
  {
   "cell_type": "code",
   "execution_count": 4,
   "metadata": {},
   "outputs": [],
   "source": [
    "import cv2\n",
    "import os\n",
    "\n",
    "# Define the source and destination directories\n",
    "src_dir = '/Khoa_hoc_dl_xu_ly_anh/Testing_Normal_Videos_Anomaly/'\n",
    "dst_dir = '/Video_Anomaly_dectection_kaggle/Test/NormalVideos'\n",
    "\n",
    "# Create the destination directory if it doesn't exist\n",
    "os.makedirs(dst_dir, exist_ok=True)\n",
    "\n",
    "# Iterate over all files in the source directory\n",
    "for filename in os.listdir(src_dir):\n",
    "    if filename.endswith('.mp4'):  # Add conditions for other video formats if needed\n",
    "        video_path = os.path.join(src_dir, filename)\n",
    "        video = cv2.VideoCapture(video_path)\n",
    "        \n",
    "        # Extract frames from the video\n",
    "        frame_id = 0\n",
    "        while True:\n",
    "            ret, frame = video.read()\n",
    "            if not ret:\n",
    "                break\n",
    "            \n",
    "            # Resize the frame to 64x64\n",
    "            frame_resized = cv2.resize(frame, (64, 64))\n",
    "            \n",
    "            # Save the frame to the destination directory\n",
    "            frame_filename = f'{filename}_frame{frame_id}.jpg'\n",
    "            frame_path = os.path.join(dst_dir, frame_filename)\n",
    "            cv2.imwrite(frame_path, frame_resized) \n",
    "            \n",
    "            frame_id += 1\n"
   ]
  }
 ],
 "metadata": {
  "kernelspec": {
   "display_name": "Python 3",
   "language": "python",
   "name": "python3"
  },
  "language_info": {
   "codemirror_mode": {
    "name": "ipython",
    "version": 3
   },
   "file_extension": ".py",
   "mimetype": "text/x-python",
   "name": "python",
   "nbconvert_exporter": "python",
   "pygments_lexer": "ipython3",
   "version": "3.10.0"
  }
 },
 "nbformat": 4,
 "nbformat_minor": 2
}
